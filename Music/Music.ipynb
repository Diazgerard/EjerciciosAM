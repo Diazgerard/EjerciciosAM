{
 "cells": [
  {
   "cell_type": "code",
   "execution_count": null,
   "id": "851203e9",
   "metadata": {},
   "outputs": [
    {
     "name": "stderr",
     "output_type": "stream",
     "text": [
      "Repo card metadata block was not found. Setting CardData to empty.\n"
     ]
    }
   ],
   "source": [
    "from datasets import load_dataset\n",
    "import numpy as np\n",
    "\n",
    "# Cargar dataset\n",
    "dataset = load_dataset(\"cosimoiaia/RTTTL-Ringtones\", split=\"train\")\n",
    "\n",
    "# Extraer solo la parte de la melodía RTTTL\n",
    "def extract_notes(rtttl_string):\n",
    "    try:\n",
    "        parts = rtttl_string.split(\":\")\n",
    "        notes = parts[2].split(\",\")\n",
    "        return [note.strip() for note in notes]\n",
    "    except:\n",
    "        return []\n",
    "\n",
    "melodies = [extract_notes(x[\"text\"]) for x in dataset]\n",
    "melodies = [m for m in melodies if len(m) >= 20]  # filtrar secuencias muy cortas"
   ]
  },
  {
   "cell_type": "code",
   "execution_count": 5,
   "id": "d3c8e9b8",
   "metadata": {},
   "outputs": [
    {
     "name": "stdout",
     "output_type": "stream",
     "text": [
      "['16c.5', '32d.5', '32d.5', '16d.5', '8d.5', '16c.5', '16c.5', '16c.5', '16c.5', '32d#.5', '32d#.5', '16d#.5', '8d#.5', '16d.5', '16d.5', '16d.5', '16c.5', '32d.5', '32d.5', '16d.5', '8d.5', '16c.5', '16c.5', '16c.5', '16c.5', '32d#.5', '32d#.5', '16d#.5', '8d#.5', '16d.5']\n"
     ]
    }
   ],
   "source": [
    "print(melodies[0][:30])\n"
   ]
  },
  {
   "cell_type": "code",
   "execution_count": 6,
   "id": "25f51bc0",
   "metadata": {},
   "outputs": [
    {
     "name": "stdout",
     "output_type": "stream",
     "text": [
      "Vocabulario tamaño: 1403\n"
     ]
    }
   ],
   "source": [
    "all_notes = [note for melody in melodies for note in melody]\n",
    "unique_notes = sorted(set(all_notes))\n",
    "note2idx = {note: i for i, note in enumerate(unique_notes)}\n",
    "idx2note = {i: note for note, i in note2idx.items()}\n",
    "vocab_size = len(unique_notes)\n",
    "\n",
    "print(f\"Vocabulario tamaño: {vocab_size}\")\n"
   ]
  },
  {
   "cell_type": "code",
   "execution_count": 7,
   "id": "1ea77855",
   "metadata": {},
   "outputs": [
    {
     "name": "stdout",
     "output_type": "stream",
     "text": [
      "Cantidad de secuencias para entrenamiento: 309490\n"
     ]
    }
   ],
   "source": [
    "sequence_length = 20\n",
    "X = []\n",
    "y = []\n",
    "\n",
    "for melody in melodies:\n",
    "    encoded = [note2idx[note] for note in melody]\n",
    "    for i in range(len(encoded) - sequence_length):\n",
    "        X.append(encoded[i:i+sequence_length])\n",
    "        y.append(encoded[i+sequence_length])\n",
    "\n",
    "X = np.array(X)\n",
    "y = np.array(y)\n",
    "\n",
    "print(f\"Cantidad de secuencias para entrenamiento: {X.shape[0]}\")\n"
   ]
  },
  {
   "cell_type": "code",
   "execution_count": 9,
   "id": "5a6895db",
   "metadata": {},
   "outputs": [
    {
     "name": "stderr",
     "output_type": "stream",
     "text": [
      "c:\\Users\\gerar\\anaconda3\\Lib\\site-packages\\keras\\src\\layers\\core\\embedding.py:97: UserWarning: Argument `input_length` is deprecated. Just remove it.\n",
      "  warnings.warn(\n"
     ]
    },
    {
     "data": {
      "text/html": [
       "<pre style=\"white-space:pre;overflow-x:auto;line-height:normal;font-family:Menlo,'DejaVu Sans Mono',consolas,'Courier New',monospace\"><span style=\"font-weight: bold\">Model: \"sequential_1\"</span>\n",
       "</pre>\n"
      ],
      "text/plain": [
       "\u001b[1mModel: \"sequential_1\"\u001b[0m\n"
      ]
     },
     "metadata": {},
     "output_type": "display_data"
    },
    {
     "data": {
      "text/html": [
       "<pre style=\"white-space:pre;overflow-x:auto;line-height:normal;font-family:Menlo,'DejaVu Sans Mono',consolas,'Courier New',monospace\">┏━━━━━━━━━━━━━━━━━━━━━━━━━━━━━━━━━┳━━━━━━━━━━━━━━━━━━━━━━━━┳━━━━━━━━━━━━━━━┓\n",
       "┃<span style=\"font-weight: bold\"> Layer (type)                    </span>┃<span style=\"font-weight: bold\"> Output Shape           </span>┃<span style=\"font-weight: bold\">       Param # </span>┃\n",
       "┡━━━━━━━━━━━━━━━━━━━━━━━━━━━━━━━━━╇━━━━━━━━━━━━━━━━━━━━━━━━╇━━━━━━━━━━━━━━━┩\n",
       "│ embedding_1 (<span style=\"color: #0087ff; text-decoration-color: #0087ff\">Embedding</span>)         │ (<span style=\"color: #00d7ff; text-decoration-color: #00d7ff\">None</span>, <span style=\"color: #00af00; text-decoration-color: #00af00\">20</span>, <span style=\"color: #00af00; text-decoration-color: #00af00\">64</span>)         │        <span style=\"color: #00af00; text-decoration-color: #00af00\">89,792</span> │\n",
       "├─────────────────────────────────┼────────────────────────┼───────────────┤\n",
       "│ lstm_1 (<span style=\"color: #0087ff; text-decoration-color: #0087ff\">LSTM</span>)                   │ (<span style=\"color: #00d7ff; text-decoration-color: #00d7ff\">None</span>, <span style=\"color: #00af00; text-decoration-color: #00af00\">128</span>)            │        <span style=\"color: #00af00; text-decoration-color: #00af00\">98,816</span> │\n",
       "├─────────────────────────────────┼────────────────────────┼───────────────┤\n",
       "│ dense_1 (<span style=\"color: #0087ff; text-decoration-color: #0087ff\">Dense</span>)                 │ (<span style=\"color: #00d7ff; text-decoration-color: #00d7ff\">None</span>, <span style=\"color: #00af00; text-decoration-color: #00af00\">1403</span>)           │       <span style=\"color: #00af00; text-decoration-color: #00af00\">180,987</span> │\n",
       "└─────────────────────────────────┴────────────────────────┴───────────────┘\n",
       "</pre>\n"
      ],
      "text/plain": [
       "┏━━━━━━━━━━━━━━━━━━━━━━━━━━━━━━━━━┳━━━━━━━━━━━━━━━━━━━━━━━━┳━━━━━━━━━━━━━━━┓\n",
       "┃\u001b[1m \u001b[0m\u001b[1mLayer (type)                   \u001b[0m\u001b[1m \u001b[0m┃\u001b[1m \u001b[0m\u001b[1mOutput Shape          \u001b[0m\u001b[1m \u001b[0m┃\u001b[1m \u001b[0m\u001b[1m      Param #\u001b[0m\u001b[1m \u001b[0m┃\n",
       "┡━━━━━━━━━━━━━━━━━━━━━━━━━━━━━━━━━╇━━━━━━━━━━━━━━━━━━━━━━━━╇━━━━━━━━━━━━━━━┩\n",
       "│ embedding_1 (\u001b[38;5;33mEmbedding\u001b[0m)         │ (\u001b[38;5;45mNone\u001b[0m, \u001b[38;5;34m20\u001b[0m, \u001b[38;5;34m64\u001b[0m)         │        \u001b[38;5;34m89,792\u001b[0m │\n",
       "├─────────────────────────────────┼────────────────────────┼───────────────┤\n",
       "│ lstm_1 (\u001b[38;5;33mLSTM\u001b[0m)                   │ (\u001b[38;5;45mNone\u001b[0m, \u001b[38;5;34m128\u001b[0m)            │        \u001b[38;5;34m98,816\u001b[0m │\n",
       "├─────────────────────────────────┼────────────────────────┼───────────────┤\n",
       "│ dense_1 (\u001b[38;5;33mDense\u001b[0m)                 │ (\u001b[38;5;45mNone\u001b[0m, \u001b[38;5;34m1403\u001b[0m)           │       \u001b[38;5;34m180,987\u001b[0m │\n",
       "└─────────────────────────────────┴────────────────────────┴───────────────┘\n"
      ]
     },
     "metadata": {},
     "output_type": "display_data"
    },
    {
     "data": {
      "text/html": [
       "<pre style=\"white-space:pre;overflow-x:auto;line-height:normal;font-family:Menlo,'DejaVu Sans Mono',consolas,'Courier New',monospace\"><span style=\"font-weight: bold\"> Total params: </span><span style=\"color: #00af00; text-decoration-color: #00af00\">369,595</span> (1.41 MB)\n",
       "</pre>\n"
      ],
      "text/plain": [
       "\u001b[1m Total params: \u001b[0m\u001b[38;5;34m369,595\u001b[0m (1.41 MB)\n"
      ]
     },
     "metadata": {},
     "output_type": "display_data"
    },
    {
     "data": {
      "text/html": [
       "<pre style=\"white-space:pre;overflow-x:auto;line-height:normal;font-family:Menlo,'DejaVu Sans Mono',consolas,'Courier New',monospace\"><span style=\"font-weight: bold\"> Trainable params: </span><span style=\"color: #00af00; text-decoration-color: #00af00\">369,595</span> (1.41 MB)\n",
       "</pre>\n"
      ],
      "text/plain": [
       "\u001b[1m Trainable params: \u001b[0m\u001b[38;5;34m369,595\u001b[0m (1.41 MB)\n"
      ]
     },
     "metadata": {},
     "output_type": "display_data"
    },
    {
     "data": {
      "text/html": [
       "<pre style=\"white-space:pre;overflow-x:auto;line-height:normal;font-family:Menlo,'DejaVu Sans Mono',consolas,'Courier New',monospace\"><span style=\"font-weight: bold\"> Non-trainable params: </span><span style=\"color: #00af00; text-decoration-color: #00af00\">0</span> (0.00 B)\n",
       "</pre>\n"
      ],
      "text/plain": [
       "\u001b[1m Non-trainable params: \u001b[0m\u001b[38;5;34m0\u001b[0m (0.00 B)\n"
      ]
     },
     "metadata": {},
     "output_type": "display_data"
    }
   ],
   "source": [
    "import tensorflow as tf\n",
    "from tensorflow.keras.models import Sequential\n",
    "from tensorflow.keras.layers import Embedding, LSTM, Dense\n",
    "\n",
    "model = Sequential([\n",
    "    Embedding(input_dim=vocab_size, output_dim=64, input_length=sequence_length),\n",
    "    LSTM(128),\n",
    "    Dense(vocab_size, activation='softmax')\n",
    "])\n",
    "\n",
    "model.compile(loss='sparse_categorical_crossentropy', optimizer='adam', metrics=['accuracy'])\n",
    "model.build(input_shape=(None, sequence_length))\n",
    "model.summary()"
   ]
  },
  {
   "cell_type": "code",
   "execution_count": 10,
   "id": "331ebc79",
   "metadata": {},
   "outputs": [
    {
     "name": "stdout",
     "output_type": "stream",
     "text": [
      "Epoch 1/20\n",
      "\u001b[1m4353/4353\u001b[0m \u001b[32m━━━━━━━━━━━━━━━━━━━━\u001b[0m\u001b[37m\u001b[0m \u001b[1m101s\u001b[0m 23ms/step - accuracy: 0.0876 - loss: 4.8211 - val_accuracy: 0.1683 - val_loss: 3.6526\n",
      "Epoch 2/20\n",
      "\u001b[1m4353/4353\u001b[0m \u001b[32m━━━━━━━━━━━━━━━━━━━━\u001b[0m\u001b[37m\u001b[0m \u001b[1m102s\u001b[0m 23ms/step - accuracy: 0.1950 - loss: 3.4220 - val_accuracy: 0.1945 - val_loss: 3.4172\n",
      "Epoch 3/20\n",
      "\u001b[1m4353/4353\u001b[0m \u001b[32m━━━━━━━━━━━━━━━━━━━━\u001b[0m\u001b[37m\u001b[0m \u001b[1m97s\u001b[0m 22ms/step - accuracy: 0.2213 - loss: 3.1594 - val_accuracy: 0.2013 - val_loss: 3.3444\n",
      "Epoch 4/20\n",
      "\u001b[1m4353/4353\u001b[0m \u001b[32m━━━━━━━━━━━━━━━━━━━━\u001b[0m\u001b[37m\u001b[0m \u001b[1m96s\u001b[0m 22ms/step - accuracy: 0.2443 - loss: 3.0028 - val_accuracy: 0.2077 - val_loss: 3.3029\n",
      "Epoch 5/20\n",
      "\u001b[1m4353/4353\u001b[0m \u001b[32m━━━━━━━━━━━━━━━━━━━━\u001b[0m\u001b[37m\u001b[0m \u001b[1m100s\u001b[0m 23ms/step - accuracy: 0.2588 - loss: 2.8993 - val_accuracy: 0.2128 - val_loss: 3.2849\n",
      "Epoch 6/20\n",
      "\u001b[1m4353/4353\u001b[0m \u001b[32m━━━━━━━━━━━━━━━━━━━━\u001b[0m\u001b[37m\u001b[0m \u001b[1m95s\u001b[0m 22ms/step - accuracy: 0.2759 - loss: 2.8091 - val_accuracy: 0.2108 - val_loss: 3.2879\n",
      "Epoch 7/20\n",
      "\u001b[1m4353/4353\u001b[0m \u001b[32m━━━━━━━━━━━━━━━━━━━━\u001b[0m\u001b[37m\u001b[0m \u001b[1m96s\u001b[0m 22ms/step - accuracy: 0.2900 - loss: 2.7370 - val_accuracy: 0.2139 - val_loss: 3.2952\n",
      "Epoch 8/20\n",
      "\u001b[1m4353/4353\u001b[0m \u001b[32m━━━━━━━━━━━━━━━━━━━━\u001b[0m\u001b[37m\u001b[0m \u001b[1m96s\u001b[0m 22ms/step - accuracy: 0.3003 - loss: 2.6830 - val_accuracy: 0.2129 - val_loss: 3.3120\n",
      "Epoch 9/20\n",
      "\u001b[1m4353/4353\u001b[0m \u001b[32m━━━━━━━━━━━━━━━━━━━━\u001b[0m\u001b[37m\u001b[0m \u001b[1m97s\u001b[0m 22ms/step - accuracy: 0.3157 - loss: 2.6157 - val_accuracy: 0.2145 - val_loss: 3.3278\n",
      "Epoch 10/20\n",
      "\u001b[1m4353/4353\u001b[0m \u001b[32m━━━━━━━━━━━━━━━━━━━━\u001b[0m\u001b[37m\u001b[0m \u001b[1m97s\u001b[0m 22ms/step - accuracy: 0.3255 - loss: 2.5629 - val_accuracy: 0.2113 - val_loss: 3.3456\n",
      "Epoch 11/20\n",
      "\u001b[1m4353/4353\u001b[0m \u001b[32m━━━━━━━━━━━━━━━━━━━━\u001b[0m\u001b[37m\u001b[0m \u001b[1m97s\u001b[0m 22ms/step - accuracy: 0.3377 - loss: 2.5126 - val_accuracy: 0.2124 - val_loss: 3.3718\n",
      "Epoch 12/20\n",
      "\u001b[1m4353/4353\u001b[0m \u001b[32m━━━━━━━━━━━━━━━━━━━━\u001b[0m\u001b[37m\u001b[0m \u001b[1m102s\u001b[0m 23ms/step - accuracy: 0.3440 - loss: 2.4772 - val_accuracy: 0.2091 - val_loss: 3.3911\n",
      "Epoch 13/20\n",
      "\u001b[1m4353/4353\u001b[0m \u001b[32m━━━━━━━━━━━━━━━━━━━━\u001b[0m\u001b[37m\u001b[0m \u001b[1m106s\u001b[0m 24ms/step - accuracy: 0.3554 - loss: 2.4352 - val_accuracy: 0.2110 - val_loss: 3.4222\n",
      "Epoch 14/20\n",
      "\u001b[1m4353/4353\u001b[0m \u001b[32m━━━━━━━━━━━━━━━━━━━━\u001b[0m\u001b[37m\u001b[0m \u001b[1m103s\u001b[0m 24ms/step - accuracy: 0.3625 - loss: 2.3968 - val_accuracy: 0.2096 - val_loss: 3.4521\n",
      "Epoch 15/20\n",
      "\u001b[1m4353/4353\u001b[0m \u001b[32m━━━━━━━━━━━━━━━━━━━━\u001b[0m\u001b[37m\u001b[0m \u001b[1m100s\u001b[0m 23ms/step - accuracy: 0.3741 - loss: 2.3670 - val_accuracy: 0.2119 - val_loss: 3.4698\n",
      "Epoch 16/20\n",
      "\u001b[1m4353/4353\u001b[0m \u001b[32m━━━━━━━━━━━━━━━━━━━━\u001b[0m\u001b[37m\u001b[0m \u001b[1m101s\u001b[0m 23ms/step - accuracy: 0.3799 - loss: 2.3322 - val_accuracy: 0.2137 - val_loss: 3.5019\n",
      "Epoch 17/20\n",
      "\u001b[1m4353/4353\u001b[0m \u001b[32m━━━━━━━━━━━━━━━━━━━━\u001b[0m\u001b[37m\u001b[0m \u001b[1m100s\u001b[0m 23ms/step - accuracy: 0.3889 - loss: 2.2976 - val_accuracy: 0.2110 - val_loss: 3.5158\n",
      "Epoch 18/20\n",
      "\u001b[1m4353/4353\u001b[0m \u001b[32m━━━━━━━━━━━━━━━━━━━━\u001b[0m\u001b[37m\u001b[0m \u001b[1m100s\u001b[0m 23ms/step - accuracy: 0.3957 - loss: 2.2721 - val_accuracy: 0.2092 - val_loss: 3.5488\n",
      "Epoch 19/20\n",
      "\u001b[1m4353/4353\u001b[0m \u001b[32m━━━━━━━━━━━━━━━━━━━━\u001b[0m\u001b[37m\u001b[0m \u001b[1m98s\u001b[0m 22ms/step - accuracy: 0.4018 - loss: 2.2486 - val_accuracy: 0.2086 - val_loss: 3.5817\n",
      "Epoch 20/20\n",
      "\u001b[1m4353/4353\u001b[0m \u001b[32m━━━━━━━━━━━━━━━━━━━━\u001b[0m\u001b[37m\u001b[0m \u001b[1m99s\u001b[0m 23ms/step - accuracy: 0.4062 - loss: 2.2265 - val_accuracy: 0.2071 - val_loss: 3.6018\n"
     ]
    },
    {
     "data": {
      "text/plain": [
       "<keras.src.callbacks.history.History at 0x1d596513560>"
      ]
     },
     "execution_count": 10,
     "metadata": {},
     "output_type": "execute_result"
    }
   ],
   "source": [
    "model.fit(X, y, epochs=20, batch_size=64, validation_split=0.1)"
   ]
  },
  {
   "cell_type": "code",
   "execution_count": 11,
   "id": "927fd727",
   "metadata": {},
   "outputs": [
    {
     "name": "stderr",
     "output_type": "stream",
     "text": [
      "WARNING:absl:You are saving your model as an HDF5 file via `model.save()` or `keras.saving.save_model(model)`. This file format is considered legacy. We recommend using instead the native Keras format, e.g. `model.save('my_model.keras')` or `keras.saving.save_model(model, 'my_model.keras')`. \n"
     ]
    }
   ],
   "source": [
    "model.save(\"rtttl_ringtone_model.h5\")"
   ]
  },
  {
   "cell_type": "code",
   "execution_count": 30,
   "id": "3053807c",
   "metadata": {},
   "outputs": [],
   "source": [
    "import random\n",
    "\n",
    "def sample_with_temperature(preds, temperature=1.0):\n",
    "    preds = np.log(preds + 1e-8) / temperature\n",
    "    exp_preds = np.exp(preds)\n",
    "    preds = exp_preds / np.sum(exp_preds)\n",
    "    return np.random.choice(len(preds), p=preds)\n",
    "\n",
    "def generate_notes(model, seed_seq, length=50, temperature=1.0):\n",
    "    generated = seed_seq[:]\n",
    "    for _ in range(length):\n",
    "        input_seq = np.array(generated[-sequence_length:]).reshape(1, sequence_length)\n",
    "        preds = model.predict(input_seq, verbose=0)[0]\n",
    "        next_idx = sample_with_temperature(preds, temperature)\n",
    "        generated.append(next_idx)\n",
    "    return [idx2note[i] for i in generated]"
   ]
  },
  {
   "cell_type": "code",
   "execution_count": 31,
   "id": "5f04ae13",
   "metadata": {},
   "outputs": [
    {
     "name": "stdout",
     "output_type": "stream",
     "text": [
      "RTTTL generado:\n",
      "Generada:d=4,o=5,b=140:,,,,,,,,,,,,,4c5,4f5,4g5,4c6,4g5,4f5,4c5,d,c,c,a#5,4p.,d,d#,d,d#,4g,d#,d,c,d#,d,c#,4d,4c,p,c,a#5,c,d,d,d#,d,c,4d,f,d#,d,c,d,c,4a5,c,c,c,c,c,2a#5,d,d,d,d,c,d,d,c,d,d,c,c,4d,c,d,4c,4d,4d,d,d,d,2d,2p,d,d,d,d,c,4d,4d.,2p,c,d,d,4d.,p,d,d,d,1c,4p,d,d,d,d,d,d,d,d,d,4d,f,d,d,d,d,4d.,p,d,e,d,d,d,4d.,p,d,4f.,p,d,d,4c.,p,d,d,4d.,p,d,d,d,d,d,d,4d.,p,d,d,a,4g,f,4g,f,d,d,c,d,f,d,d,4c,d,d,d,d,d,d,4c,d,e,f,g,f,e,f,f,d,d,d,c,e,f,f,e,f,f,d,c,c,d,c,d,d,d,c,d,d,d,c,d,e,f,f,f,f,e,f,f,f,f,g,f,e,d,e,e,2f,e,f,e,1f\n"
     ]
    }
   ],
   "source": [
    "custom_seed_notes = [\"4c5\", \"4f5\", \"4g5\", \"4c6\", \"4g5\", \"4f5\", \"4c5\"]\n",
    "seed_seq = [note2idx[note] for note in custom_seed_notes]\n",
    "# Asegurar que tenga la longitud adecuada\n",
    "while len(seed_seq) < sequence_length:\n",
    "    seed_seq.insert(0, 0)  # padding con índice 0\n",
    "\n",
    "new_notes = generate_notes(model, seed_seq, length=200, temperature=0.8)\n",
    "\n",
    "rtttl_string = \"Generada:d=4,o=5,b=140:\" + \",\".join(new_notes)\n",
    "print(\"RTTTL generado:\")\n",
    "print(rtttl_string)"
   ]
  },
  {
   "cell_type": "code",
   "execution_count": 16,
   "id": "46cd2316",
   "metadata": {},
   "outputs": [
    {
     "name": "stdout",
     "output_type": "stream",
     "text": [
      "Collecting mido\n",
      "  Downloading mido-1.3.3-py3-none-any.whl.metadata (6.4 kB)\n",
      "Collecting python-rtmidi\n",
      "  Downloading python_rtmidi-1.5.8-cp312-cp312-win_amd64.whl.metadata (7.5 kB)\n",
      "Requirement already satisfied: packaging in c:\\users\\gerar\\anaconda3\\lib\\site-packages (from mido) (24.1)\n",
      "Downloading mido-1.3.3-py3-none-any.whl (54 kB)\n",
      "Downloading python_rtmidi-1.5.8-cp312-cp312-win_amd64.whl (129 kB)\n",
      "Installing collected packages: python-rtmidi, mido\n",
      "Successfully installed mido-1.3.3 python-rtmidi-1.5.8\n"
     ]
    }
   ],
   "source": [
    "!pip install mido python-rtmidi\n",
    "\n"
   ]
  },
  {
   "cell_type": "code",
   "execution_count": null,
   "id": "23349cdb",
   "metadata": {},
   "outputs": [
    {
     "name": "stdout",
     "output_type": "stream",
     "text": [
      "✅ Corrido generado y guardado como output_corrido.mid (20 segundos)\n"
     ]
    }
   ],
   "source": [
    "from mido import MidiFile, MidiTrack, Message, MetaMessage, bpm2tempo\n",
    "\n",
    "mid = MidiFile()\n",
    "track = MidiTrack()\n",
    "mid.tracks.append(track)\n",
    "\n",
    "# Definir tempo\n",
    "bpm = 120\n",
    "tempo = bpm2tempo(bpm)\n",
    "track.append(MetaMessage('set_tempo', tempo=tempo))\n",
    "\n",
    "ticks_per_beat = mid.ticks_per_beat\n",
    "beats_per_second = bpm / 60\n",
    "max_ticks = int(ticks_per_beat * beats_per_second * 20)  # 20 segundos\n",
    "\n",
    "total_ticks = 0\n",
    "\n",
    "for note_str in new_notes:\n",
    "    parsed = parse_note(note_str)\n",
    "    if not parsed:\n",
    "        continue\n",
    "    dur, midi_note = parsed\n",
    "    ticks = int(ticks_per_beat * (4 / dur))  # calcula duración real de la nota\n",
    "\n",
    "    if total_ticks + ticks > max_ticks:\n",
    "        break\n",
    "\n",
    "    track.append(Message('note_on', note=midi_note, velocity=64, time=0))\n",
    "    track.append(Message('note_off', note=midi_note, velocity=64, time=ticks))\n",
    "    track.append(Message('program_change', program=24, time=0))  # Nylon Guitar\n",
    "\n",
    "    total_ticks += ticks\n",
    "\n",
    "mid.save(\"output_corrido.mid\")\n",
    "print(\"✅ Corrido generado y guardado como output_corrido.mid (20 segundos)\")\n"
   ]
  }
 ],
 "metadata": {
  "kernelspec": {
   "display_name": "base",
   "language": "python",
   "name": "python3"
  },
  "language_info": {
   "codemirror_mode": {
    "name": "ipython",
    "version": 3
   },
   "file_extension": ".py",
   "mimetype": "text/x-python",
   "name": "python",
   "nbconvert_exporter": "python",
   "pygments_lexer": "ipython3",
   "version": "3.12.7"
  }
 },
 "nbformat": 4,
 "nbformat_minor": 5
}
